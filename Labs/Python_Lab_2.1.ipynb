{
 "cells": [
  {
   "cell_type": "markdown",
   "metadata": {
    "id": "x7F-mxeubDUG"
   },
   "source": [
    "# Python_Lab_2.1\n"
   ]
  },
  {
   "cell_type": "markdown",
   "metadata": {
    "id": "14c6Hn1BbDUH"
   },
   "source": [
    "### Task 1\n",
    "1. Write a function named is_prime that takes a number as a parameter and returns True if the number is prime and False otherwise. Print whether the number 29 is prime."
   ]
  },
  {
   "cell_type": "code",
   "execution_count": 29,
   "metadata": {
    "id": "5e_MZEN0bDUI"
   },
   "outputs": [
    {
     "name": "stdout",
     "output_type": "stream",
     "text": [
      "False\n"
     ]
    }
   ],
   "source": [
    "# write your code here ^_^\n",
    "\n",
    "def is_prime(n):\n",
    "    if n > 1:\n",
    "        for i in range(2,n):\n",
    "            if n % i == 0:\n",
    "                return False\n",
    "        return True\n",
    "    return False\n",
    "\n",
    "print(is_prime(29))"
   ]
  },
  {
   "cell_type": "markdown",
   "metadata": {
    "id": "2zKG8ZcybDUI"
   },
   "source": [
    "### Task 2\n",
    "1. Create a list of 10 numbers and sort them in descending order using the sort() function.\n",
    "2. Use the len() function to print the length of the sorted list.\n",
    "3. Use the zip() function to combine three lists (names, ages, and cities) into a list of tuples.\n",
    "4. Use the range() function to create a list of even numbers from 2 to 20 and print the list."
   ]
  },
  {
   "cell_type": "code",
   "execution_count": 78,
   "metadata": {
    "id": "yyoe__M_bDUI"
   },
   "outputs": [
    {
     "name": "stdout",
     "output_type": "stream",
     "text": [
      "List Length: 9\n",
      "(('Hamad', 23, 'Riyadh'), ('Omar', 21, 'Jeddah'), ('Talal', 24, 'Abha'))\n",
      "[2, 4, 6, 8, 10, 12, 14, 16, 18, 20]\n"
     ]
    }
   ],
   "source": [
    "# write your code here ^_^\n",
    "import random\n",
    "# Sorting a list\n",
    "my_list = [120,899,356,214,147,88,90,1080,5020]\n",
    "my_list.sort(reverse=True)\n",
    "my_list\n",
    "\n",
    "# Get the len of the list\n",
    "print(\"List Length:\", len(my_list))\n",
    "\n",
    "# Combine three lists\n",
    "names = ['Hamad', 'Omar','Talal']\n",
    "ages= [23, 21, 24]\n",
    "cities = ['Riyadh', 'Jeddah', 'Abha']\n",
    "\n",
    "compined_list = zip(names,ages,cities)\n",
    "\n",
    "print(tuple(compined_list))\n",
    "\n",
    "# Use range fun to create a list of even numbers\n",
    "\n",
    "even_nums = [n for n in range(2,21) if n % 2 == 0]\n",
    "print(even_nums)\n",
    "\n",
    "\n"
   ]
  },
  {
   "cell_type": "markdown",
   "metadata": {
    "id": "aStW5p7AbDUI"
   },
   "source": [
    "### Task 3\n",
    "Build a phone book program that receives the phone number, and returns the name of the owner.\n",
    "You can follow the table below:\n",
    "\n",
    "| Name     | Number     |\n",
    "| -------- | ---------- |\n",
    "| Amal     | 1111111111 |\n",
    "| Mohammed | 2222222222 |\n",
    "| Khadijah | 3333333333 |\n",
    "| Abdullah | 4444444444 |\n",
    "| Rawan    | 5555555555 |\n",
    "| Faisal   | 6666666666 |\n",
    "| Layla    | 7777777777 |\n",
    "\n",
    "- If the number exists, print the owner. Otherwise, print \"Sorry, the number is not found\".\n",
    "- If the number is less or more than 10 numbers, print \"This is invalid number\".\n",
    "- If the number contains letters or symbols, print \"This is invalid number\".\n"
   ]
  },
  {
   "cell_type": "code",
   "execution_count": 197,
   "metadata": {
    "id": "kvXmjUe-bDUJ"
   },
   "outputs": [
    {
     "name": "stdout",
     "output_type": "stream",
     "text": [
      "10\n",
      "This is invalid number\n"
     ]
    }
   ],
   "source": [
    "# write your code here ^_^\n",
    "\n",
    "phone_book = {\n",
    "    1111111111:'Amal',\n",
    "    2222222222:'Mohammed',\n",
    "    3333333333:'Khadijah',\n",
    "    4444444444:'Abdullah',\n",
    "    5555555555:'Rawan',\n",
    "    6666666666:'Faisal',\n",
    "    7777777777:'Layla'\n",
    "\n",
    "}\n",
    "\n",
    "phone_num = input(\"Enter the phone number->\")\n",
    "print(len(phone_num))\n",
    "if not( len(phone_num) < 10 or len(phone_num) > 10) and phone_num.isdigit():\n",
    "    if int(phone_num) in phone_book.keys():\n",
    "        print(phone_book.get(int(phone_num)))\n",
    "    else:\n",
    "        print(\"Sorry, the number is not found\")\n",
    "else:\n",
    "    print(\"This is invalid number\")"
   ]
  },
  {
   "cell_type": "code",
   "execution_count": null,
   "metadata": {},
   "outputs": [],
   "source": []
  },
  {
   "cell_type": "markdown",
   "metadata": {
    "id": "exLHQ28nbDUJ"
   },
   "source": [
    "### Task 4\n",
    "- Given the following list : [5, 4, 17, 19, 30, 2, 7, 10, 45]\n",
    "    1. Use a lambda function to filter out only the odd numbers.\n",
    "    2. Print the new list of odd numbers."
   ]
  },
  {
   "cell_type": "code",
   "execution_count": 198,
   "metadata": {
    "id": "64SUsh1cbDUJ"
   },
   "outputs": [
    {
     "name": "stdout",
     "output_type": "stream",
     "text": [
      "[5, 17, 19, 7, 45]\n"
     ]
    }
   ],
   "source": [
    "# write your code here ^_^\n",
    "\n",
    "lst = [5, 4, 17, 19, 30, 2, 7, 10, 45]\n",
    "odd_list = []\n",
    "odd_numbers = list(filter(lambda x: x % 2 != 0, lst))\n",
    "\n",
    "print(odd_numbers)"
   ]
  }
 ],
 "metadata": {
  "colab": {
   "provenance": []
  },
  "kernelspec": {
   "display_name": "Python 3",
   "language": "python",
   "name": "python3"
  },
  "language_info": {
   "codemirror_mode": {
    "name": "ipython",
    "version": 3
   },
   "file_extension": ".py",
   "mimetype": "text/x-python",
   "name": "python",
   "nbconvert_exporter": "python",
   "pygments_lexer": "ipython3",
   "version": "3.10.11"
  }
 },
 "nbformat": 4,
 "nbformat_minor": 0
}
