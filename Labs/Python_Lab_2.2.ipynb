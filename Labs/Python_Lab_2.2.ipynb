{
 "cells": [
  {
   "cell_type": "markdown",
   "metadata": {
    "id": "E9Y5ss1ZYj3r"
   },
   "source": [
    "# Python_Lab_2.2\n"
   ]
  },
  {
   "cell_type": "markdown",
   "metadata": {
    "id": "Q1kAqc72Yj3t"
   },
   "source": [
    "### Task 1\n",
    "1. Write a program that prompts the user to enter two numbers and prints their division. Handle cases where the user enters non-numeric values or attempts to divide by zero using a try-except block.\n"
   ]
  },
  {
   "cell_type": "code",
   "execution_count": 5,
   "metadata": {
    "id": "H-xyoRTVYj3t"
   },
   "outputs": [
    {
     "name": "stdout",
     "output_type": "stream",
     "text": [
      "Error: Division by zero is not allowed.\n"
     ]
    }
   ],
   "source": [
    "# write your code here ^_^\n",
    "try:\n",
    "    num1 = float(input(\"Enter the first number: \"))\n",
    "    num2 = float(input(\"Enter the second number: \"))\n",
    "\n",
    "\n",
    "    result = num1 / num2\n",
    "\n",
    "    print(f\"The result of {num1} ÷ {num2} is: {result}\")\n",
    "\n",
    "except ValueError:\n",
    "    print(\"Error: Please enter a valid numeric value.\")\n",
    "\n",
    "except ZeroDivisionError:\n",
    "    print(\"Error: Division by zero is not allowed.\")\n",
    "\n",
    "except Exception as e:\n",
    "    print(f\"An unexpected error occurred: {e}\")"
   ]
  },
  {
   "cell_type": "markdown",
   "metadata": {
    "id": "CPWcDSC_Yj3u"
   },
   "source": [
    "### Task 2\n",
    "- Use \"Random\" library to do the following:\n",
    "    1. Create a list of random numbers using list comprehension.\n",
    "    2. Create a list of squares of the even numbers from random numbers using list comprehension.\n",
    "    3. Create a list of tuples (number, square) for random numbers using list comprehension."
   ]
  },
  {
   "cell_type": "code",
   "execution_count": 89,
   "metadata": {
    "id": "Yfq-i6CeYj3u"
   },
   "outputs": [
    {
     "data": {
      "text/plain": [
       "[(5, 16), (1, 1), (3, 4), (2, 25), (3, 9)]"
      ]
     },
     "execution_count": 89,
     "metadata": {},
     "output_type": "execute_result"
    }
   ],
   "source": [
    "# write your code here ^_^\n",
    "import random\n",
    "new_list = [random.randint(1,50) for x in range(6)]\n",
    "new_list\n",
    "\n",
    "squares_numbers = [random.randint(1,5) **2 for x in range(5)]\n",
    "squares_numbers\n",
    "\n",
    "list_t = [(random.randint(1,5), random.randint(1,5) **2) for x in range(5) ]\n",
    "list_t"
   ]
  },
  {
   "cell_type": "markdown",
   "metadata": {
    "id": "jYdOq46NYj3u"
   },
   "source": [
    "### Task 3\n",
    "- Create a dictionary where the keys are numbers from 1 to 5 and the values are list of their squares and cubes.\n",
    "\n",
    "  - **hint**: use dictionary of list comprehension.\n",
    "\n",
    "- Create a dictionary from two lists (one with keys and one with values) using dictionary comprehension.\n",
    "\n"
   ]
  },
  {
   "cell_type": "code",
   "execution_count": 94,
   "metadata": {
    "id": "IEnsiNmCYj3u"
   },
   "outputs": [
    {
     "name": "stdout",
     "output_type": "stream",
     "text": [
      "{'a': 10, 'b': 20, 'c': 30, 'd': 40}\n"
     ]
    }
   ],
   "source": [
    "# write your code here ^_^\n",
    "\n",
    "num_dict = {x: [x**2, x**3] for x in range(1, 6)}\n",
    "num_dict\n",
    "\n",
    "keys = [\"a\", \"b\", \"c\", \"d\"]\n",
    "values = [10, 20, 30, 40]\n",
    "\n",
    "dict_from_lists = {keys[i]: values[i] for i in range(len(keys))}\n",
    "\n",
    "print(dict_from_lists)"
   ]
  },
  {
   "cell_type": "markdown",
   "metadata": {
    "id": "6T9TCQ8SYj3v"
   },
   "source": [
    "### Task 4\n",
    "- Given a dictionary where keys are student names and values are lists of their scores, write a function that updates the scores of students who have achieved a perfect score (100) by adding a bonus of 5 points to each score. Use dictionary comprehension to achieve this.\n",
    "\n",
    "    - Implement the function add_bonus_to_perfect_scores(student_scores) that adds a bonus of 5 points to each score of students who have achieved a perfect score (100)."
   ]
  },
  {
   "cell_type": "code",
   "execution_count": 96,
   "metadata": {
    "id": "T3R_VsQpYj3v"
   },
   "outputs": [
    {
     "name": "stdout",
     "output_type": "stream",
     "text": [
      "{'أحمد': [95, 100, 105], 'عمر': [88, 76, 92], 'يوسف': [105, 105, 103], 'ريان': [70, 85, 89]}\n"
     ]
    }
   ],
   "source": [
    "# write your code here ^_^\n",
    "\n",
    "def add_bonus_to_perfect_scores(student_scores):\n",
    "    updated_scores = {\n",
    "        student: [score + 5 if 100 in scores else score for score in scores]\n",
    "        for student, scores in student_scores.items()\n",
    "    }\n",
    "    return updated_scores\n",
    "\n",
    "students = {\n",
    "    \"أحمد\": [90, 95, 100],\n",
    "    \"عمر\": [88, 76, 92],\n",
    "    \"يوسف\": [100, 100, 98],\n",
    "    \"ريان\": [70, 85, 89]\n",
    "}\n",
    "\n",
    "# Call the function and print the updated scores\n",
    "updated_students = add_bonus_to_perfect_scores(students)\n",
    "print(updated_students)"
   ]
  },
  {
   "cell_type": "markdown",
   "metadata": {
    "id": "rJkOEFAwYj3v"
   },
   "source": []
  }
 ],
 "metadata": {
  "colab": {
   "provenance": []
  },
  "kernelspec": {
   "display_name": "Python 3",
   "language": "python",
   "name": "python3"
  },
  "language_info": {
   "codemirror_mode": {
    "name": "ipython",
    "version": 3
   },
   "file_extension": ".py",
   "mimetype": "text/x-python",
   "name": "python",
   "nbconvert_exporter": "python",
   "pygments_lexer": "ipython3",
   "version": "3.10.11"
  }
 },
 "nbformat": 4,
 "nbformat_minor": 0
}
